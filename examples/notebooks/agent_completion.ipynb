{
 "cells": [
  {
   "cell_type": "markdown",
   "metadata": {},
   "source": [
    "## Agent Completion\n",
    "\n",
    "Start by installing the houdini library that allows you to interact with your agents\n",
    "\n",
    "- pip install judini\n",
    "- Copy and paste your CodeGPT API Key and Agent ID"
   ]
  },
  {
   "cell_type": "code",
   "execution_count": 19,
   "metadata": {},
   "outputs": [
    {
     "ename": "RuntimeError",
     "evalue": "asyncio.run() cannot be called from a running event loop",
     "output_type": "error",
     "traceback": [
      "\u001b[0;31m---------------------------------------------------------------------------\u001b[0m",
      "\u001b[0;31mRuntimeError\u001b[0m                              Traceback (most recent call last)",
      "\u001b[1;32m/Users/danipower/Proyectos/Judini/cookbook/examples/notebooks/agent_completion.ipynb Cell 3\u001b[0m line \u001b[0;36m2\n\u001b[1;32m     <a href='vscode-notebook-cell:/Users/danipower/Proyectos/Judini/cookbook/examples/notebooks/agent_completion.ipynb#W6sZmlsZQ%3D%3D?line=25'>26</a>\u001b[0m \t\t\u001b[39mprint\u001b[39m(response)\n\u001b[1;32m     <a href='vscode-notebook-cell:/Users/danipower/Proyectos/Judini/cookbook/examples/notebooks/agent_completion.ipynb#W6sZmlsZQ%3D%3D?line=27'>28</a>\u001b[0m \u001b[39mif\u001b[39;00m \u001b[39m__name__\u001b[39m  \u001b[39m==\u001b[39m  \u001b[39m\"\u001b[39m\u001b[39m__main__\u001b[39m\u001b[39m\"\u001b[39m:\n\u001b[0;32m---> <a href='vscode-notebook-cell:/Users/danipower/Proyectos/Judini/cookbook/examples/notebooks/agent_completion.ipynb#W6sZmlsZQ%3D%3D?line=28'>29</a>\u001b[0m     main()\n",
      "\u001b[1;32m/Users/danipower/Proyectos/Judini/cookbook/examples/notebooks/agent_completion.ipynb Cell 3\u001b[0m line \u001b[0;36m2\n\u001b[1;32m     <a href='vscode-notebook-cell:/Users/danipower/Proyectos/Judini/cookbook/examples/notebooks/agent_completion.ipynb#W6sZmlsZQ%3D%3D?line=17'>18</a>\u001b[0m prompt \u001b[39m=\u001b[39m  \u001b[39m\"\u001b[39m\u001b[39mWho is the president of the USA?\u001b[39m\u001b[39m\"\u001b[39m\n\u001b[1;32m     <a href='vscode-notebook-cell:/Users/danipower/Proyectos/Judini/cookbook/examples/notebooks/agent_completion.ipynb#W6sZmlsZQ%3D%3D?line=19'>20</a>\u001b[0m \u001b[39m# Use the chat_completion method from the agent instance\u001b[39;00m\n\u001b[1;32m     <a href='vscode-notebook-cell:/Users/danipower/Proyectos/Judini/cookbook/examples/notebooks/agent_completion.ipynb#W6sZmlsZQ%3D%3D?line=20'>21</a>\u001b[0m \u001b[39m# This uses asynchronous programming due to the 'async' keyword\u001b[39;00m\n\u001b[1;32m     <a href='vscode-notebook-cell:/Users/danipower/Proyectos/Judini/cookbook/examples/notebooks/agent_completion.ipynb#W6sZmlsZQ%3D%3D?line=21'>22</a>\u001b[0m \u001b[39m# Typically, you'd run this inside an event loop\u001b[39;00m\n\u001b[1;32m     <a href='vscode-notebook-cell:/Users/danipower/Proyectos/Judini/cookbook/examples/notebooks/agent_completion.ipynb#W6sZmlsZQ%3D%3D?line=22'>23</a>\u001b[0m \u001b[39m# Here's a simple example using asyncio\u001b[39;00m\n\u001b[0;32m---> <a href='vscode-notebook-cell:/Users/danipower/Proyectos/Judini/cookbook/examples/notebooks/agent_completion.ipynb#W6sZmlsZQ%3D%3D?line=23'>24</a>\u001b[0m responses \u001b[39m=\u001b[39m asyncio\u001b[39m.\u001b[39;49mrun(agent_instance\u001b[39m.\u001b[39;49mchat_completion(prompt, stream\u001b[39m=\u001b[39;49m\u001b[39mTrue\u001b[39;49;00m))\n\u001b[1;32m     <a href='vscode-notebook-cell:/Users/danipower/Proyectos/Judini/cookbook/examples/notebooks/agent_completion.ipynb#W6sZmlsZQ%3D%3D?line=24'>25</a>\u001b[0m \u001b[39mfor\u001b[39;00m response \u001b[39min\u001b[39;00m responses:\n\u001b[1;32m     <a href='vscode-notebook-cell:/Users/danipower/Proyectos/Judini/cookbook/examples/notebooks/agent_completion.ipynb#W6sZmlsZQ%3D%3D?line=25'>26</a>\u001b[0m \t\u001b[39mprint\u001b[39m(response)\n",
      "File \u001b[0;32m/usr/local/Cellar/python@3.11/3.11.2/Frameworks/Python.framework/Versions/3.11/lib/python3.11/asyncio/runners.py:186\u001b[0m, in \u001b[0;36mrun\u001b[0;34m(main, debug)\u001b[0m\n\u001b[1;32m    161\u001b[0m \u001b[39m\u001b[39m\u001b[39m\"\"\"Execute the coroutine and return the result.\u001b[39;00m\n\u001b[1;32m    162\u001b[0m \n\u001b[1;32m    163\u001b[0m \u001b[39mThis function runs the passed coroutine, taking care of\u001b[39;00m\n\u001b[0;32m   (...)\u001b[0m\n\u001b[1;32m    182\u001b[0m \u001b[39m    asyncio.run(main())\u001b[39;00m\n\u001b[1;32m    183\u001b[0m \u001b[39m\"\"\"\u001b[39;00m\n\u001b[1;32m    184\u001b[0m \u001b[39mif\u001b[39;00m events\u001b[39m.\u001b[39m_get_running_loop() \u001b[39mis\u001b[39;00m \u001b[39mnot\u001b[39;00m \u001b[39mNone\u001b[39;00m:\n\u001b[1;32m    185\u001b[0m     \u001b[39m# fail fast with short traceback\u001b[39;00m\n\u001b[0;32m--> 186\u001b[0m     \u001b[39mraise\u001b[39;00m \u001b[39mRuntimeError\u001b[39;00m(\n\u001b[1;32m    187\u001b[0m         \u001b[39m\"\u001b[39m\u001b[39masyncio.run() cannot be called from a running event loop\u001b[39m\u001b[39m\"\u001b[39m)\n\u001b[1;32m    189\u001b[0m \u001b[39mwith\u001b[39;00m Runner(debug\u001b[39m=\u001b[39mdebug) \u001b[39mas\u001b[39;00m runner:\n\u001b[1;32m    190\u001b[0m     \u001b[39mreturn\u001b[39;00m runner\u001b[39m.\u001b[39mrun(main)\n",
      "\u001b[0;31mRuntimeError\u001b[0m: asyncio.run() cannot be called from a running event loop"
     ]
    }
   ],
   "source": [
    "import json\n",
    "import asyncio\n",
    "from judini.codegpt.agent import Agent\n",
    "\n",
    "CODEGPT_API_KEY=\"63e52832-331a-4999-bce4-02dd0d04294b\"\n",
    "CODEGPT_AGENT_ID=\"770c40ed-2178-445d-8b91-8cfa87ccaf80\"\n",
    "\n",
    "\n",
    "def  main():\n",
    "\t# Load API key and agent ID from environment variables\n",
    "\tcodegpt_api_key = CODEGPT_API_KEY\n",
    "\tcodegpt_agent_id = CODEGPT_AGENT_ID\n",
    "\n",
    "\t# Create an agent instance using the provided credentials\n",
    "\tagent_instance = Agent(api_key=codegpt_api_key, agent_id=codegpt_agent_id)\n",
    "\n",
    "\t# Get user input\n",
    "\tprompt =  \"Who is the president of the USA?\"\n",
    "\n",
    "\t# Use the chat_completion method from the agent instance\n",
    "\t# This uses asynchronous programming due to the 'async' keyword\n",
    "\t# Typically, you'd run this inside an event loop\n",
    "\t# Here's a simple example using asyncio\n",
    "\tresponses = asyncio.run(agent_instance.chat_completion(prompt, stream=True))\n",
    "\tfor response in responses:\n",
    "\t\tprint(response)\n",
    "\n",
    "if __name__  ==  \"__main__\":\n",
    "    main()"
   ]
  }
 ],
 "metadata": {
  "kernelspec": {
   "display_name": "Python 3",
   "language": "python",
   "name": "python3"
  },
  "language_info": {
   "codemirror_mode": {
    "name": "ipython",
    "version": 3
   },
   "file_extension": ".py",
   "mimetype": "text/x-python",
   "name": "python",
   "nbconvert_exporter": "python",
   "pygments_lexer": "ipython3",
   "version": "3.11.2"
  },
  "orig_nbformat": 4
 },
 "nbformat": 4,
 "nbformat_minor": 2
}
