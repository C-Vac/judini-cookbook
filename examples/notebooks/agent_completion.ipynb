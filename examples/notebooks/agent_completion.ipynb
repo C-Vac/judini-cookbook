{
 "cells": [
  {
   "cell_type": "markdown",
   "metadata": {},
   "source": [
    "## Agent Completion\n",
    "\n",
    "Start by installing the houdini library that allows you to interact with your agents\n",
    "\n",
    "- pip install judini\n",
    "- Copy and paste your CodeGPT API Key and Agent ID"
   ]
  },
  {
   "cell_type": "code",
   "execution_count": 2,
   "metadata": {},
   "outputs": [],
   "source": [
    "from judini.codegpt.agent import Agent\n",
    "import asyncio\n",
    "import time\n",
    "\n",
    "\n",
    "async def get_assistant_response(prompt):\n",
    "\tCODEGPT_API_KEY = \"CODEGPT_API_KEY\"\n",
    "\tCODEGPT_AGENT_ID = \"CODEGPT_AGENT_ID\"\n",
    "\n",
    "\tagent_instance = Agent(api_key=CODEGPT_API_KEY, agent_id=CODEGPT_AGENT_ID)\n",
    "\t\n",
    "\tresponse_text = \"\"\n",
    "\tdata = {\n",
    "            \"messages\": [\n",
    "                {\n",
    "                    \"role\": \"user\",\n",
    "                    \"content\": prompt\n",
    "                }\n",
    "            ]\n",
    "        }\n",
    "\tasync for response_chunk in agent_instance.chat_completion(data, stream=False):\n",
    "\t\tresponse_chunk_text = response_chunk.strip()\n",
    "\n",
    "\t\tfor chunk in response_chunk_text.split():\n",
    "\t\t\tresponse_text += chunk\n",
    "\t\t\n",
    "\treturn response_text\n",
    "\n",
    "prompt = \"Who is the president of the USA?\"\n",
    "asyncio.run(get_assistant_response(prompt))"
   ]
  }
 ],
 "metadata": {
  "kernelspec": {
   "display_name": "Python 3",
   "language": "python",
   "name": "python3"
  },
  "language_info": {
   "codemirror_mode": {
    "name": "ipython",
    "version": 3
   },
   "file_extension": ".py",
   "mimetype": "text/x-python",
   "name": "python",
   "nbconvert_exporter": "python",
   "pygments_lexer": "ipython3",
   "version": "3.11.2"
  },
  "orig_nbformat": 4
 },
 "nbformat": 4,
 "nbformat_minor": 2
}
