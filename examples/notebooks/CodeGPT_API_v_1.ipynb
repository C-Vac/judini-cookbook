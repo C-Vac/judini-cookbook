{
  "nbformat": 4,
  "nbformat_minor": 0,
  "metadata": {
    "colab": {
      "provenance": [],
      "collapsed_sections": [
        "mI2m9d2eH8Bw",
        "vucwEpa9PBFz",
        "7mYzNUdtPcvk",
        "dXKdva4iTb3D",
        "cMC0VQTtXlFK"
      ]
    },
    "kernelspec": {
      "name": "python3",
      "display_name": "Python 3"
    },
    "language_info": {
      "name": "python"
    }
  },
  "cells": [
    {
      "cell_type": "markdown",
      "source": [
        "# **Using the API Functions** 🚀\n",
        "⭐ This notebook shows how to utilize the API functions of CodeGPT. Remember to have your CodeGPT API Key and the IDs of the agents you wish to configure.\n",
        "\n",
        "Documentation available on this [link](https://)"
      ],
      "metadata": {
        "id": "WNZZgTDFFDQZ"
      }
    },
    {
      "cell_type": "markdown",
      "source": [
        "## **Install the requirements**\n",
        "[link text](https://)"
      ],
      "metadata": {
        "id": "mI2m9d2eH8Bw"
      }
    },
    {
      "cell_type": "code",
      "source": [
        "!pip install requests\n",
        "!pip  install  judini\n",
        "!python -m pip install python-dotenv\n",
        "!pip install nest_asyncio"
      ],
      "metadata": {
        "id": "pv55-FHWieou"
      },
      "execution_count": null,
      "outputs": []
    },
    {
      "cell_type": "markdown",
      "source": [
        "### **Import libraries**"
      ],
      "metadata": {
        "id": "vucwEpa9PBFz"
      }
    },
    {
      "cell_type": "code",
      "source": [
        "import requests\n",
        "import os\n",
        "import asyncio\n",
        "from judini.codegpt.agent import Agent\n",
        "from dotenv import load_dotenv  # For loading environment variables from a .env file"
      ],
      "metadata": {
        "id": "B1VWnsCkLZnv"
      },
      "execution_count": null,
      "outputs": []
    },
    {
      "cell_type": "markdown",
      "source": [
        "## **API Functions**\n",
        "Get the ```base_url``` and ```codegpt_apikey```\n",
        "\n"
      ],
      "metadata": {
        "id": "GsD2RQg2OtEF"
      }
    },
    {
      "cell_type": "code",
      "execution_count": null,
      "metadata": {
        "id": "NxjovRyRd5Fa"
      },
      "outputs": [],
      "source": [
        "base_url = \"https://api.codegpt.co\"\n",
        "codegpt_apikey = \"CODEGPT_API_KEY\" #Change the CODEGPT_API_KEY\n",
        "headers = {\"Authorization\": f\"Bearer {codegpt_apikey}\"}"
      ]
    },
    {
      "cell_type": "markdown",
      "source": [
        "### **List Agent**\n",
        "Get a list of agents"
      ],
      "metadata": {
        "id": "7mYzNUdtPcvk"
      }
    },
    {
      "cell_type": "code",
      "source": [
        "list_agent_url = base_url + \"/v1/agent\"\n",
        "response = requests.get(list_agent_url, headers=headers)\n",
        "print(response.json())"
      ],
      "metadata": {
        "id": "LVFN9mDjjGbH"
      },
      "execution_count": null,
      "outputs": []
    },
    {
      "cell_type": "markdown",
      "source": [
        "**Response Example**\n",
        "\n",
        "```\n",
        "[{'id': 'CODEGPT_AGENT_ID', 'status': 'published', 'user_created':\n",
        "'CODEGPT_API_KEY', 'date_created': '2023-10-26T02:08:00.732Z', 'name': 'Nuevo\n",
        "Nombre', 'documentId': ['12345678-1234-abcd-abcd-123456789000'], 'description':\n",
        "'', 'avatar': None, 'prompt': '', 'username': 'CODEGPT_API_KEY', 'namespace':\n",
        "'CODEGPT_API_KEY', 'pineconekey': None, 'openaikey': None, 'indexname': None,\n",
        "'topk': 5, 'gptmodel': 0, 'temperature': 0, 'selected': True, 'folderId': None,\n",
        "'model': 'gpt-3.5-turbo', 'whitelisted': [], 'isPublic': True, 'pincode':\n",
        "'dwt4yo', 'welcome': \"# Welcome to my Bot!\\nI'm Bot name\", 'maxTokens': None,\n",
        "'functions': None, 'threadId': None},\n",
        "{'id': 'CODEGPT_AGENT_ID', 'status': 'published',\n",
        "'user_created': 'CODEGPT_API_KEY', 'date_created':\n",
        "'2023-10-26T02:08:00.732Z', 'name': 'Nuevo Nombre', 'documentId':\n",
        "['111111-4444-2222-1111-777777777777'], 'description': '', 'avatar': None,\n",
        "'prompt': '', 'username': 'CODEGPT_API_KEY', 'namespace':\n",
        "'CODEGPT_API_KEY', 'pineconekey': None, 'openaikey': None,\n",
        "'indexname': None, 'topk': 5, 'gptmodel': 0, 'temperature': 0, 'selected':\n",
        "True, 'folderId': None, 'model': 'gpt-3.5-turbo', 'whitelisted': [],\n",
        "'isPublic': True, 'pincode': 'dwt4yo', 'welcome': \"# Welcome to my Bot!\\nI'm\n",
        "Bot name\", 'maxTokens': None, 'functions': None, 'threadId': None}]\n",
        "```\n",
        "\n"
      ],
      "metadata": {
        "id": "9h919WUzTtN8"
      }
    },
    {
      "cell_type": "markdown",
      "source": [
        "### **Get Agent**\n",
        "Get a specific agent by its ID"
      ],
      "metadata": {
        "id": "dXKdva4iTb3D"
      }
    },
    {
      "cell_type": "code",
      "source": [
        "agent_id = \"ID_AGENT\"  #Change the CODEGPT_AGENT_ID\n",
        "get_agent_url = base_url + f\"/v1/agent/{agent_id}\"\n",
        "response = requests.get(get_agent_url, headers=headers)\n",
        "print(response.json())"
      ],
      "metadata": {
        "id": "05bHcLFBigZQ"
      },
      "execution_count": null,
      "outputs": []
    },
    {
      "cell_type": "markdown",
      "source": [
        "**Response Example**\n",
        "\n",
        "```\n",
        "[{'id': 'CODEGPT_AGENT_ID', 'status': 'published', 'user_created':\n",
        "'CODEGPT_API_KEY', 'date_created': '2023-10-26T02:08:00.732Z', 'name': 'Nuevo\n",
        "Nombre', 'documentId': ['12345678-1234-abcd-abcd-123456789000'], 'description':\n",
        "'', 'avatar': None, 'prompt': '', 'username': 'CODEGPT_API_KEY', 'namespace':\n",
        "'CODEGPT_API_KEY', 'pineconekey': None, 'openaikey': None, 'indexname': None,\n",
        "'topk': 5, 'gptmodel': 0, 'temperature': 0, 'selected': True, 'folderId': None,\n",
        "'model': 'gpt-3.5-turbo', 'whitelisted': [], 'isPublic': True, 'pincode':\n",
        "'dwt4yo', 'welcome': \"# Welcome to my Bot!\\nI'm Bot name\", 'maxTokens': None,\n",
        "'functions': None, 'threadId': None}]\n",
        "```\n",
        "\n"
      ],
      "metadata": {
        "id": "oKZ9MBP7XPYg"
      }
    },
    {
      "cell_type": "markdown",
      "source": [
        "### **Update Agent**\n",
        "Update a specific agent by its ID (set prompt and name)\n"
      ],
      "metadata": {
        "id": "cMC0VQTtXlFK"
      }
    },
    {
      "cell_type": "code",
      "source": [
        "agent_id = \"ID_AGENT\"  #Change the CODEGPT_AGENT_ID\n",
        "update_agent_url = base_url + f\"/v1/agent/{agent_id}\"\n",
        "agent_data = {\n",
        "    \"name\": \"New name\",\n",
        "    \"prompt\": \"Explain code\"\n",
        "}\n",
        "response = requests.patch(update_agent_url, json=agent_data, headers=headers)\n",
        "print(response.json())\n"
      ],
      "metadata": {
        "id": "UGnXC1PriiIk"
      },
      "execution_count": null,
      "outputs": []
    },
    {
      "cell_type": "code",
      "source": [
        "agent_id = \"ID_AGENT\"  #Change the CODEGPT_AGENT_ID\n",
        "update_agent_url = base_url + f\"/v1/agent/{agent_id}\"\n",
        "agent_data = {\n",
        "    \"name\": \"New name\",\n",
        "    \"prompt\": \"Explain code\",\n",
        "    \"topk\":3\n",
        "}\n",
        "response = requests.patch(update_agent_url, json=agent_data, headers=headers)\n",
        "print(response.json())"
      ],
      "metadata": {
        "id": "hdENxRK0QRnK"
      },
      "execution_count": null,
      "outputs": []
    },
    {
      "cell_type": "markdown",
      "source": [
        "**Response Example**\n",
        "\n",
        "BEFORE\n",
        "```\n",
        "[{'id': 'CODEGPT_AGENT_ID', 'status': 'published', 'user_created':\n",
        "'CODEGPT_API_KEY', 'date_created': '2023-10-26T02:08:00.732Z', 'name': 'Agent1'\n",
        ", 'documentId': ['12345678-1234-abcd-abcd-123456789000'], 'description':\n",
        "'', 'avatar': None, 'prompt': '', 'username': 'CODEGPT_API_KEY', 'namespace':\n",
        "'CODEGPT_API_KEY', 'pineconekey': None, 'openaikey': None, 'indexname': None,\n",
        "'topk': 5, 'gptmodel': 0, 'temperature': 0, 'selected': True, 'folderId': None,\n",
        "'model': 'gpt-3.5-turbo', 'whitelisted': [], 'isPublic': True, 'pincode':\n",
        "'dwt4yo', 'welcome': \"# Welcome to my Bot!\\nI'm Bot name\", 'maxTokens': None,\n",
        "'functions': None, 'threadId': None}]\n",
        "```\n",
        "AFTER\n",
        "```\n",
        "[{'id': 'CODEGPT_AGENT_ID', 'status': 'published', 'user_created':\n",
        "'CODEGPT_API_KEY', 'date_created': '2023-10-26T02:08:00.732Z', 'name':\n",
        "'New_name', 'documentId': ['12345678-1234-abcd-abcd-123456789000'], 'description':\n",
        "'', 'avatar': None, 'prompt': 'Explain code', 'username': 'CODEGPT_API_KEY', 'namespace':\n",
        "'CODEGPT_API_KEY', 'pineconekey': None, 'openaikey': None, 'indexname': None,\n",
        "'topk': 5, 'gptmodel': 0, 'temperature': 0, 'selected': True, 'folderId': None,\n",
        "'model': 'gpt-3.5-turbo', 'whitelisted': [], 'isPublic': True, 'pincode':\n",
        "'dwt4yo', 'welcome': \"# Welcome to my Bot!\\nI'm Bot name\", 'maxTokens': None,\n",
        "'functions': None, 'threadId': None}]\n",
        "```\n",
        "\n",
        "You can change other parameters, for example:\n",
        "```\n",
        "agent_data = {\n",
        "     \"name\": \"New name_1\",\n",
        "    \"prompt\": \"Explain code on python always\",\n",
        "    'topk': 5, #referents\n",
        "}\n",
        "```\n",
        "\n"
      ],
      "metadata": {
        "id": "Rlr7tQeyYbb8"
      }
    },
    {
      "cell_type": "markdown",
      "source": [
        "### **Compleation**\n",
        "Make a completion request"
      ],
      "metadata": {
        "id": "sJAFsWhuck_3"
      }
    },
    {
      "cell_type": "code",
      "source": [
        "completion_url = base_url + \"/v1/completion\""
      ],
      "metadata": {
        "id": "HXz4dN3zilrK"
      },
      "execution_count": null,
      "outputs": []
    },
    {
      "cell_type": "code",
      "source": [
        "#MAKE THE PROMPT\n",
        "completion_data = {\n",
        "  \"agent\": \"ID_AGENT\",\n",
        "  \"messages\": [\n",
        "    {\n",
        "      \"role\": \"user\",\n",
        "      \"content\": \"Hola como estas\"\n",
        "    }\n",
        "  ]\n",
        "}\n"
      ],
      "metadata": {
        "id": "YwTR6n4ZwueM"
      },
      "execution_count": null,
      "outputs": []
    },
    {
      "cell_type": "code",
      "source": [
        "completion_data = {\n",
        "\"agent\": \"ID_AGENT\",\n",
        "\"messages\": [\n",
        "{ \"role\": \"user\", \"content\": \"que es python?\" }\n",
        "]\n",
        "}\n"
      ],
      "metadata": {
        "id": "cLIaDidRT3zA"
      },
      "execution_count": null,
      "outputs": []
    },
    {
      "cell_type": "code",
      "source": [
        "#CALL THE RESPONSE\n",
        "response = requests.post(completion_url, json=completion_data, headers=headers)\n",
        "print(response.text)"
      ],
      "metadata": {
        "id": "yYoMl-q9xVBn"
      },
      "execution_count": null,
      "outputs": []
    }
  ]
}