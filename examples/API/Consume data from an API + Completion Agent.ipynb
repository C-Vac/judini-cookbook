{
  "nbformat": 4,
  "nbformat_minor": 0,
  "metadata": {
    "colab": {
      "provenance": []
    },
    "kernelspec": {
      "name": "python3",
      "display_name": "Python 3"
    },
    "language_info": {
      "name": "python"
    }
  },
  "cells": [
    {
      "cell_type": "code",
      "execution_count": 13,
      "metadata": {
        "colab": {
          "base_uri": "https://localhost:8080/"
        },
        "id": "s9pJt7TgWvS0",
        "outputId": "159d6550-8229-43d1-b74e-a9fd88182224"
      },
      "outputs": [
        {
          "output_type": "stream",
          "name": "stdout",
          "text": [
            "Requirement already satisfied: requests in /usr/local/lib/python3.10/dist-packages (2.31.0)\n",
            "Requirement already satisfied: charset-normalizer<4,>=2 in /usr/local/lib/python3.10/dist-packages (from requests) (3.3.2)\n",
            "Requirement already satisfied: idna<4,>=2.5 in /usr/local/lib/python3.10/dist-packages (from requests) (3.4)\n",
            "Requirement already satisfied: urllib3<3,>=1.21.1 in /usr/local/lib/python3.10/dist-packages (from requests) (2.0.7)\n",
            "Requirement already satisfied: certifi>=2017.4.17 in /usr/local/lib/python3.10/dist-packages (from requests) (2023.7.22)\n",
            "Requirement already satisfied: pandas in /usr/local/lib/python3.10/dist-packages (1.5.3)\n",
            "Requirement already satisfied: python-dateutil>=2.8.1 in /usr/local/lib/python3.10/dist-packages (from pandas) (2.8.2)\n",
            "Requirement already satisfied: pytz>=2020.1 in /usr/local/lib/python3.10/dist-packages (from pandas) (2023.3.post1)\n",
            "Requirement already satisfied: numpy>=1.21.0 in /usr/local/lib/python3.10/dist-packages (from pandas) (1.23.5)\n",
            "Requirement already satisfied: six>=1.5 in /usr/local/lib/python3.10/dist-packages (from python-dateutil>=2.8.1->pandas) (1.16.0)\n"
          ]
        }
      ],
      "source": [
        "!pip install requests\n",
        "\n"
      ]
    },
    {
      "cell_type": "code",
      "source": [
        "# Import necessary libraries\n",
        "import requests\n",
        "import json\n",
        "import re\n",
        "\n",
        "# Set API key and agent ID for the CodeGPT API\n",
        "CODEGPT_API_KEY = \"\"\n",
        "CODEGPT_AGENT_ID = \"\"\n",
        "COMPLETION_URL = f\"https://api.codegpt.co/v1/completion\"\n",
        "\n",
        "# Define function to get data for a given license plate number from a vehicle API (only CHILE)\n",
        "def get_vehicle_data(plate_number):\n",
        "    # Make a request to the vehicle API\n",
        "    response = requests.get(f'https://vehicles.open-api.cl/{plate_number}')\n",
        "    # Get the JSON data from the response\n",
        "    data = response.json()\n",
        "    # Return the data\n",
        "    return data\n",
        "\n",
        "# Define function to get information about a vehicle using the \"get_vehicle_data\" function and send a message to the CodeGPT API asking for more information about the vehicle\n",
        "def agent(plate_number):\n",
        "    # Set headers for the CodeGPT API request\n",
        "    headers = {\"Authorization\": f\"Bearer {CODEGPT_API_KEY}\"}\n",
        "    # Get vehicle data using the \"get_vehicle_data\" function\n",
        "    vehicle_data = get_vehicle_data(plate_number)\n",
        "    # Create a message to send to the CodeGPT API\n",
        "    message = f\"What can you tell me about the {vehicle_data['year']} {vehicle_data['brand']} {vehicle_data['model']}. Give me 5 similar car options, return for a table of pandas with Make, Model, Year, Price, Mileage\"\n",
        "    # Create the body of the CodeGPT API request\n",
        "    body = {\n",
        "        \"agent\": CODEGPT_AGENT_ID,\n",
        "        \"messages\": [\n",
        "            { \"role\": \"user\", \"content\": message }\n",
        "        ]\n",
        "    }\n",
        "    # Send the request to the CodeGPT API\n",
        "    completion_call = requests.post(COMPLETION_URL, json=body, headers=headers)\n",
        "    # If the request is successful, parse the completion text and return it\n",
        "    if completion_call.status_code == 200:\n",
        "        return parse_completion_response(completion_call.text)\n",
        "    # If the request is not successful, return an error message\n",
        "    else:\n",
        "        return f\"Error, {json.loads(completion_call.text)['detail']}\"\n",
        "\n",
        "# Define function to extract the completion text from the response of the CodeGPT API\n",
        "def parse_completion_response(completion_text):\n",
        "    # Define a regular expression pattern to match the completion text\n",
        "    pattern = r\"data: (.+)\"\n",
        "    # Find all matches of the pattern in the completion text\n",
        "    matches = re.findall(pattern, completion_text)\n",
        "    # Join the matches together to form the completion text\n",
        "    completion = ''.join(matches)\n",
        "    # Return the completion text\n",
        "    return completion\n",
        "\n",
        "# Prompt the user to input a license plate number\n",
        "plate_number = input(\"What is the license plate number?\")\n",
        "# Call the \"agent\" function with the license plate number inputted by the user and store the completion text returned by the CodeGPT API in a variable\n",
        "completion = agent(plate_number)\n",
        "\n",
        "# Display\n",
        "print(completion)"
      ],
      "metadata": {
        "colab": {
          "base_uri": "https://localhost:8080/"
        },
        "id": "ZP4v_FQTWyGD",
        "outputId": "1eadc0b6-0eea-4d4e-983d-e9278b7c267f"
      },
      "execution_count": 17,
      "outputs": [
        {
          "output_type": "stream",
          "name": "stdout",
          "text": [
            "What is the license plate number?GYVB70\n",
            "The 2015 GREAT WALL WINGLE 5 LUX 4X4 2.0 is a pickup truck that was produced by the Chinese automaker Great Wall Motors. It features a 2.0-liter gasoline engine, a 6-speed manual transmission, and a 4-wheel drive system. The WINGLE 5 LUX 4X4 2.0 has a maximum power output of 105 kW (141 hp) and a maximum torque of 305 Nm (225 lb-ft).Here are 5 similar car options to the 2015 GREAT WALL WINGLE 5 LUX 4X4 2.0:1. 2015 Toyota Tacoma - This pickup truck features a 2.7-liter 4-cylinder engine, a 5-speed manual transmission, and a 4-wheel drive system. It has a maximum power output of 159 hp and a maximum torque of 180 lb-ft.2. 2015 Nissan Frontier - This pickup truck features a 2.5-liter 4-cylinder engine, a 5-speed manual transmission, and a 4-wheel drive system. It has a maximum power output of 152 hp and a maximum torque of 171 lb-ft.3. 2015 Chevrolet Colorado - This pickup truck features a 2.5-liter 4-cylinder engine, a 6-speed manual transmission, and a 4-wheel drive system. It has a maximum power output of 200 hp and a maximum torque of 191 lb-ft.4. 2015 GMC Canyon - This pickup truck features a 2.5-liter 4-cylinder engine, a 6-speed manual transmission, and a 4-wheel drive system. It has a maximum power output of 200 hp and a maximum torque of 191 lb-ft.5. 2015 Ford Ranger - This pickup truck features a 2.2-liter 4-cylinder engine, a 6-speed manual transmission, and a 4-wheel drive system. It has a maximum power output of 118 kW (158 hp) and a maximum torque of 385 Nm (284 lb-ft).Here is a table of pandas with Make, Model, Year, Price, and Mileage for the 5 similar car options:| Make      | Model         | Year | Price   | Mileage ||-----------|---------------|------|---------|---------|| Toyota    | Tacoma        | 2015 | $18,995 | 89,234  || Nissan\n"
          ]
        }
      ]
    }
  ]
}