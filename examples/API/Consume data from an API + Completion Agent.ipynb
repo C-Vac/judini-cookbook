{
  "nbformat": 4,
  "nbformat_minor": 0,
  "metadata": {
    "colab": {
      "provenance": []
    },
    "kernelspec": {
      "name": "python3",
      "display_name": "Python 3"
    },
    "language_info": {
      "name": "python"
    }
  },
  "cells": [
    {
      "cell_type": "code",
      "execution_count": 18,
      "metadata": {
        "colab": {
          "base_uri": "https://localhost:8080/"
        },
        "id": "s9pJt7TgWvS0",
        "outputId": "99bfb21e-8a7a-4eb5-a351-2d83bc9b1cdb"
      },
      "outputs": [
        {
          "output_type": "stream",
          "name": "stdout",
          "text": [
            "Requirement already satisfied: requests in /usr/local/lib/python3.10/dist-packages (2.31.0)\n",
            "Requirement already satisfied: charset-normalizer<4,>=2 in /usr/local/lib/python3.10/dist-packages (from requests) (3.3.2)\n",
            "Requirement already satisfied: idna<4,>=2.5 in /usr/local/lib/python3.10/dist-packages (from requests) (3.4)\n",
            "Requirement already satisfied: urllib3<3,>=1.21.1 in /usr/local/lib/python3.10/dist-packages (from requests) (2.0.7)\n",
            "Requirement already satisfied: certifi>=2017.4.17 in /usr/local/lib/python3.10/dist-packages (from requests) (2023.7.22)\n"
          ]
        }
      ],
      "source": [
        "!pip install requests\n",
        "\n"
      ]
    },
    {
      "cell_type": "code",
      "source": [
        "# Import necessary libraries\n",
        "import requests\n",
        "import json\n",
        "import re\n",
        "\n",
        "# Set API key and agent ID for the CodeGPT API\n",
        "CODEGPT_API_KEY = \"\"\n",
        "CODEGPT_AGENT_ID = \"\"\n",
        "COMPLETION_URL = f\"https://api.codegpt.co/v1/completion\"\n",
        "\n",
        "# Define function to get data for a given license plate number from a vehicle API (only CHILE)\n",
        "def get_vehicle_data(plate_number):\n",
        "    # Make a request to the vehicle API\n",
        "    response = requests.get(f'https://vehicles.open-api.cl/{plate_number}')\n",
        "    # Get the JSON data from the response\n",
        "    data = response.json()\n",
        "    # Return the data\n",
        "    return data\n",
        "\n",
        "# Define function to get information about a vehicle using the \"get_vehicle_data\" function and send a message to the CodeGPT API asking for more information about the vehicle\n",
        "def agent(plate_number):\n",
        "    # Set headers for the CodeGPT API request\n",
        "    headers = {\"Authorization\": f\"Bearer {CODEGPT_API_KEY}\"}\n",
        "    # Get vehicle data using the \"get_vehicle_data\" function\n",
        "    vehicle_data = get_vehicle_data(plate_number)\n",
        "    # Create a message to send to the CodeGPT API\n",
        "    message = f\"What can you tell me about the {vehicle_data['year']} {vehicle_data['brand']} {vehicle_data['model']}. Give me 5 similar car options\"\n",
        "    # Create the body of the CodeGPT API request\n",
        "    body = {\n",
        "        \"agent\": CODEGPT_AGENT_ID,\n",
        "        \"messages\": [\n",
        "            { \"role\": \"user\", \"content\": message }\n",
        "        ]\n",
        "    }\n",
        "    # Send the request to the CodeGPT API\n",
        "    completion_call = requests.post(COMPLETION_URL, json=body, headers=headers)\n",
        "    # If the request is successful, parse the completion text and return it\n",
        "    if completion_call.status_code == 200:\n",
        "        return parse_completion_response(completion_call.text)\n",
        "    # If the request is not successful, return an error message\n",
        "    else:\n",
        "        return f\"Error, {json.loads(completion_call.text)['detail']}\"\n",
        "\n",
        "# Define function to extract the completion text from the response of the CodeGPT API\n",
        "def parse_completion_response(completion_text):\n",
        "    # Define a regular expression pattern to match the completion text\n",
        "    pattern = r\"data: (.+)\"\n",
        "    # Find all matches of the pattern in the completion text\n",
        "    matches = re.findall(pattern, completion_text)\n",
        "    # Join the matches together to form the completion text\n",
        "    completion = ''.join(matches)\n",
        "    # Return the completion text\n",
        "    return completion\n",
        "\n",
        "# Prompt the user to input a license plate number\n",
        "plate_number = input(\"What is the license plate number?\")\n",
        "# Call the \"agent\" function with the license plate number inputted by the user and store the completion text returned by the CodeGPT API in a variable\n",
        "completion = agent(plate_number)\n",
        "\n",
        "# Display\n",
        "print(completion)"
      ],
      "metadata": {
        "colab": {
          "base_uri": "https://localhost:8080/"
        },
        "id": "ZP4v_FQTWyGD",
        "outputId": "8bb8e738-6999-4cde-ae5c-ca0c20088cf9"
      },
      "execution_count": 20,
      "outputs": [
        {
          "output_type": "stream",
          "name": "stdout",
          "text": [
            "What is the license plate number?GYVB70\n",
            "The 2015 GREAT WALL WINGLE 5 LUX 4X4 2.0 is a pickup truck that was manufactured by the Chinese automaker Great Wall Motors. Here are some specifications of the vehicle:- Engine: 2.0-liter four-cylinder petrol engine- Power output: 105 kW (141 hp) at 5,600 rpm- Torque: 305 Nm (225 lb-ft) at 3,000-3,500 rpm- Transmission: 6-speed manual or 6-speed automatic- Drivetrain: Four-wheel drive- Fuel consumption: 9.6 L/100 km (combined)Here are five similar car options:1. 2015 Toyota Hilux SR5 4x4: This is a pickup truck that is known for its reliability and off-road capabilities. It has a 2.8-liter four-cylinder diesel engine that produces 130 kW (174 hp) and 450 Nm (332 lb-ft) of torque.2. 2015 Ford Ranger XLT 4x4: This is another popular pickup truck that is known for its toughness and versatility. It has a 3.2-liter five-cylinder diesel engine that produces 147 kW (197 hp) and 470 Nm (347 lb-ft) of torque.3. 2015 Mitsubishi Triton GLS 4x4: This is a pickup truck that is known for its comfort and refinement. It has a 2.4-liter four-cylinder diesel engine that produces 133 kW (178 hp) and 430 Nm (317 lb-ft) of torque.4. 2015 Nissan Navara ST-X 4x4: This is a pickup truck that is known for its smooth ride and spacious cabin. It has a 2.5-liter four-cylinder diesel engine that produces 140 kW (188 hp) and 450 Nm (332 lb-ft) of torque.5. 2015 Isuzu D-MAX LS-U 4x4: This is a pickup truck that is known for its durability and practicality. It has a 3.0-liter four-cylinder diesel engine that produces 130 kW (174 hp) and 380 Nm (280 lb-ft) of torque.\n"
          ]
        }
      ]
    }
  ]
}