{
  "cells": [
    {
      "cell_type": "markdown",
      "metadata": {
        "id": "WNZZgTDFFDQZ"
      },
      "source": [
        "# **Using the API Functions** 🚀\n",
        "⭐ This notebook shows how to utilize the API functions of CodeGPT. Remember to have your CodeGPT API Key and the IDs of the agents you wish to configure.\n",
        "\n",
        "Documentation available on this [link](https://)"
      ]
    },
    {
      "cell_type": "markdown",
      "metadata": {
        "id": "mI2m9d2eH8Bw"
      },
      "source": [
        "## **Install the requirements**\n",
        "[link text](https://)"
      ]
    },
    {
      "cell_type": "code",
      "execution_count": null,
      "metadata": {
        "id": "pv55-FHWieou"
      },
      "outputs": [],
      "source": [
        "!pip install requests\n",
        "!pip  install  judini\n",
        "!python -m pip install python-dotenv\n",
        "!pip install nest_asyncio"
      ]
    },
    {
      "cell_type": "markdown",
      "metadata": {
        "id": "vucwEpa9PBFz"
      },
      "source": [
        "### **Import libraries**"
      ]
    },
    {
      "cell_type": "code",
      "execution_count": null,
      "metadata": {
        "id": "B1VWnsCkLZnv"
      },
      "outputs": [],
      "source": [
        "import requests\n",
        "from dotenv import load_dotenv  # For loading environment variables from a .env file"
      ]
    },
    {
      "cell_type": "markdown",
      "metadata": {
        "id": "GsD2RQg2OtEF"
      },
      "source": [
        "## **API Functions**\n",
        "Get the ```base_url``` and ```codegpt_apikey```\n",
        "\n"
      ]
    },
    {
      "cell_type": "code",
      "execution_count": null,
      "metadata": {
        "id": "NxjovRyRd5Fa"
      },
      "outputs": [],
      "source": [
        "base_url = \"https://api.codegpt.co\"\n",
        "codegpt_apikey = \"CODEGPT_API_KEY\" #Change the CODEGPT_API_KEY\n",
        "headers = {\"Authorization\": f\"Bearer {codegpt_apikey}\"}"
      ]
    },
    {
      "cell_type": "markdown",
      "metadata": {
        "id": "7mYzNUdtPcvk"
      },
      "source": [
        "### **List Agent**\n",
        "Get a list of agents"
      ]
    },
    {
      "cell_type": "code",
      "execution_count": null,
      "metadata": {
        "id": "LVFN9mDjjGbH"
      },
      "outputs": [],
      "source": [
        "list_agent_url = base_url + \"/v1/agent\"\n",
        "response = requests.get(list_agent_url, headers=headers)\n",
        "print(response.json())"
      ]
    },
    {
      "cell_type": "markdown",
      "metadata": {
        "id": "9h919WUzTtN8"
      },
      "source": [
        "**Response Example**\n",
        "\n",
        "```\n",
        "[{'id': 'CODEGPT_AGENT_ID', 'status': 'published', 'user_created':\n",
        "'CODEGPT_API_KEY', 'date_created': '2023-10-26T02:08:00.732Z', 'name': 'Nuevo\n",
        "Nombre', 'documentId': ['12345678-1234-abcd-abcd-123456789000'], 'description':\n",
        "'', 'avatar': None, 'prompt': '', 'username': 'CODEGPT_API_KEY', 'namespace':\n",
        "'CODEGPT_API_KEY', 'pineconekey': None, 'openaikey': None, 'indexname': None,\n",
        "'topk': 5, 'gptmodel': 0, 'temperature': 0, 'selected': True, 'folderId': None,\n",
        "'model': 'gpt-3.5-turbo', 'whitelisted': [], 'isPublic': True, 'pincode':\n",
        "'dwt4yo', 'welcome': \"# Welcome to my Bot!\\nI'm Bot name\", 'maxTokens': None,\n",
        "'functions': None, 'threadId': None},\n",
        "{'id': 'CODEGPT_AGENT_ID', 'status': 'published',\n",
        "'user_created': 'CODEGPT_API_KEY', 'date_created':\n",
        "'2023-10-26T02:08:00.732Z', 'name': 'Nuevo Nombre', 'documentId':\n",
        "['111111-4444-2222-1111-777777777777'], 'description': '', 'avatar': None,\n",
        "'prompt': '', 'username': 'CODEGPT_API_KEY', 'namespace':\n",
        "'CODEGPT_API_KEY', 'pineconekey': None, 'openaikey': None,\n",
        "'indexname': None, 'topk': 5, 'gptmodel': 0, 'temperature': 0, 'selected':\n",
        "True, 'folderId': None, 'model': 'gpt-3.5-turbo', 'whitelisted': [],\n",
        "'isPublic': True, 'pincode': 'dwt4yo', 'welcome': \"# Welcome to my Bot!\\nI'm\n",
        "Bot name\", 'maxTokens': None, 'functions': None, 'threadId': None}]\n",
        "```\n",
        "\n"
      ]
    },
    {
      "cell_type": "markdown",
      "metadata": {
        "id": "dXKdva4iTb3D"
      },
      "source": [
        "### **Get Agent**\n",
        "Get a specific agent by its ID"
      ]
    },
    {
      "cell_type": "code",
      "execution_count": null,
      "metadata": {
        "id": "05bHcLFBigZQ"
      },
      "outputs": [],
      "source": [
        "agent_id = \"ID_AGENT\"  #Change the CODEGPT_AGENT_ID\n",
        "get_agent_url = base_url + f\"/v1/agent/{agent_id}\"\n",
        "response = requests.get(get_agent_url, headers=headers)\n",
        "print(response.json())"
      ]
    },
    {
      "cell_type": "markdown",
      "metadata": {
        "id": "oKZ9MBP7XPYg"
      },
      "source": [
        "**Response Example**\n",
        "\n",
        "```\n",
        "[{'id': 'CODEGPT_AGENT_ID', 'status': 'published', 'user_created':\n",
        "'CODEGPT_API_KEY', 'date_created': '2023-10-26T02:08:00.732Z', 'name': 'Nuevo\n",
        "Nombre', 'documentId': ['12345678-1234-abcd-abcd-123456789000'], 'description':\n",
        "'', 'avatar': None, 'prompt': '', 'username': 'CODEGPT_API_KEY', 'namespace':\n",
        "'CODEGPT_API_KEY', 'pineconekey': None, 'openaikey': None, 'indexname': None,\n",
        "'topk': 5, 'gptmodel': 0, 'temperature': 0, 'selected': True, 'folderId': None,\n",
        "'model': 'gpt-3.5-turbo', 'whitelisted': [], 'isPublic': True, 'pincode':\n",
        "'dwt4yo', 'welcome': \"# Welcome to my Bot!\\nI'm Bot name\", 'maxTokens': None,\n",
        "'functions': None, 'threadId': None}]\n",
        "```\n",
        "\n"
      ]
    },
    {
      "cell_type": "markdown",
      "metadata": {
        "id": "cMC0VQTtXlFK"
      },
      "source": [
        "### **Update Agent**\n",
        "Update a specific agent by its ID (set prompt and name)\n"
      ]
    },
    {
      "cell_type": "code",
      "execution_count": null,
      "metadata": {
        "id": "UGnXC1PriiIk"
      },
      "outputs": [],
      "source": [
        "agent_id = \"ID_AGENT\"  #Change the CODEGPT_AGENT_ID\n",
        "update_agent_url = base_url + f\"/v1/agent/{agent_id}\"\n",
        "agent_data = {\n",
        "    \"name\": \"New name\",\n",
        "    \"prompt\": \"Explain code\"\n",
        "}\n",
        "response = requests.patch(update_agent_url, json=agent_data, headers=headers)\n",
        "print(response.json())\n"
      ]
    },
    {
      "cell_type": "code",
      "execution_count": null,
      "metadata": {
        "id": "hdENxRK0QRnK"
      },
      "outputs": [],
      "source": [
        "agent_id = \"ID_AGENT\"  #Change the CODEGPT_AGENT_ID\n",
        "update_agent_url = base_url + f\"/v1/agent/{agent_id}\"\n",
        "agent_data = {\n",
        "    \"name\": \"New name\",\n",
        "    \"prompt\": \"Explain code\",\n",
        "    \"topk\":3\n",
        "}\n",
        "response = requests.patch(update_agent_url, json=agent_data, headers=headers)\n",
        "print(response.json())"
      ]
    },
    {
      "cell_type": "markdown",
      "metadata": {
        "id": "Rlr7tQeyYbb8"
      },
      "source": [
        "**Response Example**\n",
        "\n",
        "BEFORE\n",
        "```\n",
        "[{'id': 'CODEGPT_AGENT_ID', 'status': 'published', 'user_created':\n",
        "'CODEGPT_API_KEY', 'date_created': '2023-10-26T02:08:00.732Z', 'name': 'Agent1'\n",
        ", 'documentId': ['12345678-1234-abcd-abcd-123456789000'], 'description':\n",
        "'', 'avatar': None, 'prompt': '', 'username': 'CODEGPT_API_KEY', 'namespace':\n",
        "'CODEGPT_API_KEY', 'pineconekey': None, 'openaikey': None, 'indexname': None,\n",
        "'topk': 5, 'gptmodel': 0, 'temperature': 0, 'selected': True, 'folderId': None,\n",
        "'model': 'gpt-3.5-turbo', 'whitelisted': [], 'isPublic': True, 'pincode':\n",
        "'dwt4yo', 'welcome': \"# Welcome to my Bot!\\nI'm Bot name\", 'maxTokens': None,\n",
        "'functions': None, 'threadId': None}]\n",
        "```\n",
        "AFTER\n",
        "```\n",
        "[{'id': 'CODEGPT_AGENT_ID', 'status': 'published', 'user_created':\n",
        "'CODEGPT_API_KEY', 'date_created': '2023-10-26T02:08:00.732Z', 'name':\n",
        "'New_name', 'documentId': ['12345678-1234-abcd-abcd-123456789000'], 'description':\n",
        "'', 'avatar': None, 'prompt': 'Explain code', 'username': 'CODEGPT_API_KEY', 'namespace':\n",
        "'CODEGPT_API_KEY', 'pineconekey': None, 'openaikey': None, 'indexname': None,\n",
        "'topk': 5, 'gptmodel': 0, 'temperature': 0, 'selected': True, 'folderId': None,\n",
        "'model': 'gpt-3.5-turbo', 'whitelisted': [], 'isPublic': True, 'pincode':\n",
        "'dwt4yo', 'welcome': \"# Welcome to my Bot!\\nI'm Bot name\", 'maxTokens': None,\n",
        "'functions': None, 'threadId': None}]\n",
        "```\n",
        "\n",
        "You can change other parameters, for example:\n",
        "```\n",
        "agent_data = {\n",
        "     \"name\": \"New name_1\",\n",
        "    \"prompt\": \"Explain code on python always\",\n",
        "    'topk': 5, #referents\n",
        "}\n",
        "```\n",
        "\n"
      ]
    },
    {
      "cell_type": "markdown",
      "metadata": {
        "id": "sJAFsWhuck_3"
      },
      "source": [
        "### **Compleation**\n",
        "Make a completion request"
      ]
    },
    {
      "cell_type": "code",
      "execution_count": null,
      "metadata": {
        "id": "HXz4dN3zilrK"
      },
      "outputs": [],
      "source": [
        "completion_url = base_url + \"/v1/completion\""
      ]
    },
    {
      "cell_type": "code",
      "execution_count": null,
      "metadata": {
        "id": "YwTR6n4ZwueM"
      },
      "outputs": [],
      "source": [
        "#MAKE THE PROMPT\n",
        "completion_data = {\n",
        "  \"agent\": \"ID_AGENT\",\n",
        "  \"messages\": [\n",
        "    {\n",
        "      \"role\": \"user\",\n",
        "      \"content\": \"Hola como estas\"\n",
        "    }\n",
        "  ]\n",
        "}\n"
      ]
    },
    {
      "cell_type": "code",
      "execution_count": null,
      "metadata": {
        "id": "cLIaDidRT3zA"
      },
      "outputs": [],
      "source": [
        "completion_data = {\n",
        "\"agent\": \"ID_AGENT\",\n",
        "\"messages\": [\n",
        "{ \"role\": \"user\", \"content\": \"que es python?\" }\n",
        "]\n",
        "}\n"
      ]
    },
    {
      "cell_type": "code",
      "execution_count": null,
      "metadata": {
        "id": "yYoMl-q9xVBn"
      },
      "outputs": [],
      "source": [
        "#CALL THE RESPONSE\n",
        "response = requests.post(completion_url, json=completion_data, headers=headers)\n",
        "print(response.text)"
      ]
    }
  ],
  "metadata": {
    "colab": {
      "collapsed_sections": [
        "mI2m9d2eH8Bw",
        "vucwEpa9PBFz",
        "7mYzNUdtPcvk",
        "dXKdva4iTb3D",
        "cMC0VQTtXlFK"
      ],
      "provenance": []
    },
    "kernelspec": {
      "display_name": "Python 3",
      "name": "python3"
    },
    "language_info": {
      "name": "python"
    }
  },
  "nbformat": 4,
  "nbformat_minor": 0
}
