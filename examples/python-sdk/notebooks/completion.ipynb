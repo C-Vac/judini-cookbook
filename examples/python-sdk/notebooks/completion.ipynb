{
  "cells": [
    {
      "cell_type": "markdown",
      "metadata": {
        "id": "314iivCaKDSf"
      },
      "source": [
        "## Chat Completion\n",
        "\n",
        "Start by installing the Judini Python SDK that allows you to interact with your agents\n",
        "\n",
        "- pip install judini\n",
        "- Copy and paste your CodeGPT API Key and Agent ID"
      ]
    },
    {
      "cell_type": "markdown",
      "metadata": {
        "id": "SLXJr1QBKDSj"
      },
      "source": [
        "## Install SDK"
      ]
    },
    {
      "cell_type": "code",
      "execution_count": 1,
      "metadata": {
        "colab": {
          "base_uri": "https://localhost:8080/"
        },
        "id": "QRj_et1wKDSk",
        "outputId": "62159331-bb68-4f0b-a475-5328495c2c37"
      },
      "outputs": [
        {
          "name": "stdout",
          "output_type": "stream",
          "text": [
            "Requirement already satisfied: judini in /usr/local/lib/python3.10/dist-packages (0.0.23)\n",
            "Requirement already satisfied: requests in /usr/local/lib/python3.10/dist-packages (from judini) (2.31.0)\n",
            "Requirement already satisfied: aiohttp in /usr/local/lib/python3.10/dist-packages (from judini) (3.9.1)\n",
            "Requirement already satisfied: asyncio in /usr/local/lib/python3.10/dist-packages (from judini) (3.4.3)\n",
            "Requirement already satisfied: python-dotenv in /usr/local/lib/python3.10/dist-packages (from judini) (1.0.0)\n",
            "Requirement already satisfied: attrs>=17.3.0 in /usr/local/lib/python3.10/dist-packages (from aiohttp->judini) (23.1.0)\n",
            "Requirement already satisfied: multidict<7.0,>=4.5 in /usr/local/lib/python3.10/dist-packages (from aiohttp->judini) (6.0.4)\n",
            "Requirement already satisfied: yarl<2.0,>=1.0 in /usr/local/lib/python3.10/dist-packages (from aiohttp->judini) (1.9.4)\n",
            "Requirement already satisfied: frozenlist>=1.1.1 in /usr/local/lib/python3.10/dist-packages (from aiohttp->judini) (1.4.0)\n",
            "Requirement already satisfied: aiosignal>=1.1.2 in /usr/local/lib/python3.10/dist-packages (from aiohttp->judini) (1.3.1)\n",
            "Requirement already satisfied: async-timeout<5.0,>=4.0 in /usr/local/lib/python3.10/dist-packages (from aiohttp->judini) (4.0.3)\n",
            "Requirement already satisfied: charset-normalizer<4,>=2 in /usr/local/lib/python3.10/dist-packages (from requests->judini) (3.3.2)\n",
            "Requirement already satisfied: idna<4,>=2.5 in /usr/local/lib/python3.10/dist-packages (from requests->judini) (3.6)\n",
            "Requirement already satisfied: urllib3<3,>=1.21.1 in /usr/local/lib/python3.10/dist-packages (from requests->judini) (2.0.7)\n",
            "Requirement already satisfied: certifi>=2017.4.17 in /usr/local/lib/python3.10/dist-packages (from requests->judini) (2023.11.17)\n"
          ]
        }
      ],
      "source": [
        "!pip install judini"
      ]
    },
    {
      "cell_type": "markdown",
      "metadata": {
        "id": "iJgUyq-HKDSm"
      },
      "source": [
        "## Example Completion"
      ]
    },
    {
      "cell_type": "code",
      "execution_count": 6,
      "metadata": {
        "colab": {
          "base_uri": "https://localhost:8080/"
        },
        "id": "uc-TJdsHKDSm",
        "outputId": "060152cc-2ef1-496d-e1a5-8399c633e310"
      },
      "outputs": [
        {
          "name": "stdout",
          "output_type": "stream",
          "text": [
            "Superman is a fictional character, a superhero who appears in comic books published by DC Comics. He was created by writer Jerry Siegel and artist Joe Shuster in 1938. Superman is born as Kal-El on the planet Krypton, before being sent to Earth as an infant by his scientist father Jor-El, moments before Krypton's destruction. Discovered and adopted by a Kansas farmer and his wife, the child is raised as Clark Kent and imbued with a strong moral compass. He uses his superhuman abilities for the benefit of humanity.\n"
          ]
        }
      ],
      "source": [
        "from judini.codegpt.chat import Completion\n",
        "\n",
        "### Chat Completion\n",
        "def chat_completion(agent_id, prompt):\n",
        "    \"\"\"\n",
        "    Generates a chat completion using a specific agent.\n",
        "    Parameters:\n",
        "        agent_id (str): The ID of the agent to use for the chat.\n",
        "    prompt (dict): The chat prompt.\n",
        "    Returns:\n",
        "        The chat completion result.\n",
        "    \"\"\"\n",
        "    completion  =  Completion(CODEGPT_API_KEY)\n",
        "    return  completion.create(agent_id, prompt)\n",
        "\n",
        "# Example\n",
        "CODEGPT_API_KEY = \"ceef29de-f1c0-4e0e-a355-fb782788f28a\"\n",
        "AGENT_ID = \"563c4f95-17a0-4e18-99c2-c2611d6016a6\"\n",
        "prompt = {\"role\": \"user\", \"content\": \"Who is Superman?\"}\n",
        "chat = chat_completion(AGENT_ID, prompt)\n",
        "print(chat)"
      ]
    },
    {
      "cell_type": "markdown",
      "metadata": {
        "id": "AVqoiaeDKDSn"
      },
      "source": []
    }
  ],
  "metadata": {
    "colab": {
      "provenance": []
    },
    "kernelspec": {
      "display_name": ".venv",
      "language": "python",
      "name": "python3"
    },
    "language_info": {
      "codemirror_mode": {
        "name": "ipython",
        "version": 3
      },
      "file_extension": ".py",
      "mimetype": "text/x-python",
      "name": "python",
      "nbconvert_exporter": "python",
      "pygments_lexer": "ipython3",
      "version": "3.11.5"
    }
  },
  "nbformat": 4,
  "nbformat_minor": 0
}
